{
 "cells": [
  {
   "cell_type": "markdown",
   "metadata": {},
   "source": [
    "### A meshfree method based on the peridynamic model of solid mechanics"
   ]
  },
  {
   "cell_type": "code",
   "execution_count": 15,
   "metadata": {},
   "outputs": [
    {
     "name": "stdout",
     "output_type": "stream",
     "text": [
      "Collecting discretize\n",
      "  Downloading discretize-0.10.0-cp39-cp39-win_amd64.whl.metadata (7.7 kB)\n",
      "Requirement already satisfied: numpy>=1.22.4 in c:\\users\\st35345\\anaconda3\\lib\\site-packages (from discretize) (1.22.4)\n",
      "Collecting scipy>=1.8 (from discretize)\n",
      "  Downloading scipy-1.13.1-cp39-cp39-win_amd64.whl.metadata (60 kB)\n",
      "     ---------------------------------------- 60.6/60.6 kB 3.1 MB/s eta 0:00:00\n",
      "Downloading discretize-0.10.0-cp39-cp39-win_amd64.whl (978 kB)\n",
      "   --------------------------------------- 978.8/978.8 kB 15.4 MB/s eta 0:00:00\n",
      "Downloading scipy-1.13.1-cp39-cp39-win_amd64.whl (46.2 MB)\n",
      "   ---------------------------------------- 46.2/46.2 MB 40.9 MB/s eta 0:00:00\n",
      "Installing collected packages: scipy, discretize\n",
      "  Attempting uninstall: scipy\n",
      "    Found existing installation: scipy 1.7.1\n",
      "    Uninstalling scipy-1.7.1:\n",
      "      Successfully uninstalled scipy-1.7.1\n",
      "Successfully installed discretize-0.10.0 scipy-1.13.1\n"
     ]
    },
    {
     "name": "stderr",
     "output_type": "stream",
     "text": [
      "WARNING: Ignoring invalid distribution -atplotlib (c:\\users\\st35345\\anaconda3\\lib\\site-packages)\n",
      "WARNING: Ignoring invalid distribution -atplotlib (c:\\users\\st35345\\anaconda3\\lib\\site-packages)\n",
      "DEPRECATION: pyodbc 4.0.0-unsupported has a non-standard version number. pip 24.0 will enforce this behaviour change. A possible replacement is to upgrade to a newer version of pyodbc or contact the author to suggest that they release a version with a conforming version number. Discussion can be found at https://github.com/pypa/pip/issues/12063\n",
      "  WARNING: Failed to remove contents in a temporary directory 'C:\\Users\\st35345\\Anaconda3\\Lib\\site-packages\\~cipy'.\n",
      "  You can safely remove it manually.\n"
     ]
    }
   ],
   "source": [
    "!pip install discretize"
   ]
  },
  {
   "cell_type": "code",
   "execution_count": 16,
   "metadata": {},
   "outputs": [],
   "source": [
    "import pandas as pd\n",
    "import numpy as np\n",
    "import matplotlib.pyplot as plt\n",
    "import math\n",
    "import seaborn as sns\n",
    "from discretize import TensorMesh"
   ]
  },
  {
   "cell_type": "code",
   "execution_count": null,
   "metadata": {},
   "outputs": [],
   "source": []
  },
  {
   "cell_type": "code",
   "execution_count": null,
   "metadata": {},
   "outputs": [],
   "source": []
  },
  {
   "cell_type": "code",
   "execution_count": 8,
   "metadata": {},
   "outputs": [
    {
     "name": "stdout",
     "output_type": "stream",
     "text": [
      "My name is Rahul\n",
      "IdNumber: 868012\n",
      "Post: Intern\n"
     ]
    }
   ],
   "source": [
    "class Person(object):\n",
    "\n",
    "    def __init__(self, name, idnumber):\n",
    "        self.name = name\n",
    "        self.idnumber = idnumber\n",
    "\n",
    "    def display(self):\n",
    "        print(self.name)\n",
    "        print(self.idnumber)\n",
    "\n",
    "    def details(self):\n",
    "        print(\"My name is {}\".format(self.name))\n",
    "        print(\"IdNumber: {}\".format(self.idnumber))\n",
    "\n",
    "class Employee(Person):\n",
    "\n",
    "    def __init__(self, name, idnumber, salary, post):\n",
    "        self.salary = salary\n",
    "        self.post = post\n",
    "\n",
    "        Person.__init__(self, name, idnumber)\n",
    "\n",
    "    def details(self):\n",
    "        print(\"My name is {}\".format(self.name))\n",
    "        print(\"IdNumber: {}\".format(self.idnumber))\n",
    "        print(\"Post: {}\".format(self.post))\n",
    "\n",
    "a = Employee('Rahul', 868012, 200000, \"Intern\")\n",
    "\n",
    "#a.display()\n",
    "a.details()"
   ]
  },
  {
   "cell_type": "code",
   "execution_count": 78,
   "metadata": {},
   "outputs": [],
   "source": [
    "class peridynamics(object):\n",
    "    #\n",
    "    def __init__(self, rho, E, s0, delta):\n",
    "        self.rho = rho\n",
    "        self.E = E\n",
    "        self.s0 = s0\n",
    "        self.delta = delta\n",
    "        self.body_side_length = 50\n",
    "        self.initial_crack_length = 10\n",
    "        self.initial_crack_half_length = self.initial_crack_length/2\n",
    "        self.last_time = 15\n",
    "\n",
    "    def mesh(self):\n",
    "\n",
    "        self.n = self.body_side_length\n",
    "        self.h = (self.last_time-0)/self.n\n",
    "\n",
    "        self.A = np.zeros((self.n, self.n))\n",
    "        print(self.A.size)\n",
    "\n",
    "    # def disc(self):\n",
    "\n",
    "    #     for i in range(1, self.n):\n",
    "    #         for j in range(1, self.n):\n",
    "    #             self.xi = \n",
    "    #             self.eta = \n"
   ]
  },
  {
   "cell_type": "code",
   "execution_count": 79,
   "metadata": {},
   "outputs": [],
   "source": [
    "obj = peridynamics(8000, 192, 0.02, 1.6) "
   ]
  },
  {
   "cell_type": "code",
   "execution_count": 80,
   "metadata": {},
   "outputs": [
    {
     "name": "stdout",
     "output_type": "stream",
     "text": [
      "2500\n"
     ]
    }
   ],
   "source": [
    "obj.mesh()"
   ]
  },
  {
   "cell_type": "code",
   "execution_count": 84,
   "metadata": {},
   "outputs": [
    {
     "name": "stdout",
     "output_type": "stream",
     "text": [
      "t: 0.114 [s], Average temperature: 44.00 Celcius\n"
     ]
    },
    {
     "data": {
      "image/png": "[encoded data removed]",
      "text/plain": [
       "<Figure size 432x288 with 2 Axes>"
      ]
     },
     "metadata": {
      "needs_background": "light"
     },
     "output_type": "display_data"
    },
    {
     "name": "stdout",
     "output_type": "stream",
     "text": [
      "t: 0.227 [s], Average temperature: 48.00 Celcius\n",
      "t: 0.341 [s], Average temperature: 52.00 Celcius\n",
      "t: 0.455 [s], Average temperature: 55.00 Celcius\n",
      "t: 0.568 [s], Average temperature: 58.00 Celcius\n",
      "t: 0.682 [s], Average temperature: 60.50 Celcius\n",
      "t: 0.795 [s], Average temperature: 63.00 Celcius\n",
      "t: 0.909 [s], Average temperature: 65.19 Celcius\n",
      "t: 1.023 [s], Average temperature: 67.34 Celcius\n",
      "t: 1.136 [s], Average temperature: 69.28 Celcius\n",
      "t: 1.250 [s], Average temperature: 71.16 Celcius\n",
      "t: 1.364 [s], Average temperature: 72.88 Celcius\n",
      "t: 1.477 [s], Average temperature: 74.54 Celcius\n",
      "t: 1.591 [s], Average temperature: 76.06 Celcius\n",
      "t: 1.705 [s], Average temperature: 77.51 Celcius\n",
      "t: 1.818 [s], Average temperature: 78.86 Celcius\n",
      "t: 1.932 [s], Average temperature: 80.14 Celcius\n",
      "t: 2.045 [s], Average temperature: 81.33 Celcius\n",
      "t: 2.159 [s], Average temperature: 82.46 Celcius\n",
      "t: 2.273 [s], Average temperature: 83.52 Celcius\n",
      "t: 2.386 [s], Average temperature: 84.51 Celcius\n",
      "t: 2.500 [s], Average temperature: 85.45 Celcius\n",
      "t: 2.614 [s], Average temperature: 86.33 Celcius\n",
      "t: 2.727 [s], Average temperature: 87.15 Celcius\n",
      "t: 2.841 [s], Average temperature: 87.93 Celcius\n",
      "t: 2.955 [s], Average temperature: 88.65 Celcius\n",
      "t: 3.068 [s], Average temperature: 89.34 Celcius\n",
      "t: 3.182 [s], Average temperature: 89.98 Celcius\n",
      "t: 3.295 [s], Average temperature: 90.58 Celcius\n",
      "t: 3.409 [s], Average temperature: 91.15 Celcius\n",
      "t: 3.523 [s], Average temperature: 91.69 Celcius\n",
      "t: 3.636 [s], Average temperature: 92.19 Celcius\n",
      "t: 3.750 [s], Average temperature: 92.66 Celcius\n",
      "t: 3.864 [s], Average temperature: 93.10 Celcius\n",
      "t: 3.977 [s], Average temperature: 93.52 Celcius\n",
      "t: 4.091 [s], Average temperature: 93.91 Celcius\n"
     ]
    }
   ],
   "source": [
    "a = 110\n",
    "length = 50\n",
    "time = 4\n",
    "nodes = 10\n",
    "\n",
    "dx = length/nodes\n",
    "dt = 0.5 * dx**2 / a #stability\n",
    "t_nodes = int(time/dt)\n",
    "\n",
    "u = np.zeros(nodes) + 20\n",
    "\n",
    "# Boundary conditions\n",
    "u[0] = 100\n",
    "u[-1] = 100\n",
    "\n",
    "fig, axis = plt.subplots()\n",
    "pcm = axis.pcolormesh([u], cmap = plt.cm.jet, vmin=0, vmax=100)\n",
    "plt.colorbar(pcm, ax=axis)\n",
    "axis.set_ylim([-2, 3])\n",
    "\n",
    "\n",
    "counter = 0\n",
    "\n",
    "while counter < time:\n",
    "\n",
    "    w = u.copy()\n",
    "    for i in range(1, nodes-1):\n",
    "        u[i] = dt* a * (w[i-1]-2 * w[i] + w[i+1])/dx ** 2 + w[i]\n",
    "\n",
    "    counter += dt\n",
    "\n",
    "    print(\"t: {:.3f} [s], Average temperature: {:.2f} Celcius\".format(counter, np.average(u)))\n",
    "\n",
    "    pcm.set_array([u])\n",
    "    axis.set_title(\"Distribution at t: {:.3f} [s]\".format(counter))\n",
    "    plt.pause(0.01)\n",
    "\n",
    "plt.show()"
   ]
  },
  {
   "cell_type": "code",
   "execution_count": null,
   "metadata": {},
   "outputs": [],
   "source": []
  }
 ],
 "metadata": {
  "kernelspec": {
   "display_name": "base",
   "language": "python",
   "name": "python3"
  },
  "language_info": {
   "codemirror_mode": {
    "name": "ipython",
    "version": 3
   },
   "file_extension": ".py",
   "mimetype": "text/x-python",
   "name": "python",
   "nbconvert_exporter": "python",
   "pygments_lexer": "ipython3",
   "version": "3.9.7"
  }
 },
 "nbformat": 4,
 "nbformat_minor": 2
}
